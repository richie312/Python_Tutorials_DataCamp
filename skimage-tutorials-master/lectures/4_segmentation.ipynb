{
 "cells": [
  {
   "cell_type": "code",
   "execution_count": null,
   "metadata": {
    "collapsed": false
   },
   "outputs": [],
   "source": [
    "%matplotlib inline"
   ]
  },
  {
   "cell_type": "markdown",
   "metadata": {},
   "source": [
    "# Segmentation\n",
    "\n",
    "\n",
    "Segmentation is the division of an image into \"meaningful\" regions. If you've seen The Terminator, you've seen image segmentation:\n",
    "\n",
    "<img src=\"../2014-scipy/images/terminator-vision.png\" width=\"700px\"/>\n",
    "\n",
    "In `scikit-image`, you can find segmentation functions in the `segmentation` package, with one exception: the `watershed` function is in `morphology`, because it's a bit of both. We'll use watershed and region boundary agglomeration. Functions such as `segmentation.slic` are useful for images in which the objects you want to segment have different colors. We won't cover them here but you should be aware they exist."
   ]
  },
  {
   "cell_type": "code",
   "execution_count": null,
   "metadata": {
    "collapsed": false
   },
   "outputs": [],
   "source": [
    "import numpy as np\n",
    "import matplotlib.pyplot as plt\n",
    "plt.rcParams['image.interpolation'] = 'none'\n",
    "plt.rcParams['image.cmap'] = 'gray'"
   ]
  },
  {
   "cell_type": "markdown",
   "metadata": {},
   "source": [
    "## Segmenting with filters\n",
    "\n",
    "In many images, the contrast between regions is not sufficient to distinguish them, but there is a clear boundary between them. Using an edge detector on these images, followed by a *watershed*, often gives very good segmentation. For example, look at the output of the Sobel filter on the coins image:"
   ]
  },
  {
   "cell_type": "code",
   "execution_count": null,
   "metadata": {
    "collapsed": false
   },
   "outputs": [],
   "source": [
    "from skimage import data\n",
    "from skimage import filters\n",
    "from matplotlib import cm"
   ]
  },
  {
   "cell_type": "code",
   "execution_count": null,
   "metadata": {
    "collapsed": false
   },
   "outputs": [],
   "source": [
    "coins = data.coins()\n",
    "edges = filters.sobel(coins)\n",
    "\n",
    "plt.imshow(edges, cmap='gray');"
   ]
  },
  {
   "cell_type": "markdown",
   "metadata": {},
   "source": [
    "The *watershed algorithm* finds the regions between these edges. It does so by envisioning the pixel intensity as height on a topographic map. It then \"floods\" the map from the bottom up, starting from seed points. These flood areas are called \"watershed basins\" and when they meet, they form the image segmentation.\n",
    "\n",
    "Let's look at a one-dimensional example:"
   ]
  },
  {
   "cell_type": "code",
   "execution_count": null,
   "metadata": {
    "collapsed": false
   },
   "outputs": [],
   "source": [
    "from skimage.morphology import watershed\n",
    "from scipy import ndimage as ndi\n",
    "\n",
    "x = np.arange(12)\n",
    "y = np.array([1, 0, 1, 2, 1, 3, 2, 0, 2, 4, 1, 0])\n",
    "\n",
    "seeds = ndi.label(y == 0)[0]\n",
    "seed_positions = np.argwhere(seeds)[:, 0]\n",
    "\n",
    "print(\"Seeds:\", seeds)\n",
    "print(\"Seed positions:\", seed_positions)"
   ]
  },
  {
   "cell_type": "code",
   "execution_count": null,
   "metadata": {
    "collapsed": false
   },
   "outputs": [],
   "source": [
    "result = watershed(y, seeds)\n",
    "print(result)"
   ]
  },
  {
   "cell_type": "code",
   "execution_count": null,
   "metadata": {
    "collapsed": false
   },
   "outputs": [],
   "source": [
    "# You can ignore the code below--it's just\n",
    "# to make a pretty plot of the results.\n",
    "fig, ax = plt.subplots(figsize=(10, 5))\n",
    "ax.plot(y, '-o', label='Image slice', linewidth=3)\n",
    "ax.plot(seed_positions, np.zeros_like(seed_positions), 'r^',\n",
    "        label='Seeds', markersize=15)\n",
    "\n",
    "for n, label in enumerate(np.unique(result)):\n",
    "    mask = (result == label)\n",
    "    ax.bar(x[mask][:-1], result[mask][:-1],\n",
    "           width=1, label='Region %d' % n,\n",
    "           alpha=0.1)\n",
    "\n",
    "ax.vlines(np.argwhere(np.diff(result)) + 0.5, -0.2, 4.1, 'm',\n",
    "          linewidth=3, linestyle='--')\n",
    "\n",
    "ax.legend(loc='upper left', numpoints=1)\n",
    "ax.axis('off')\n",
    "ax.set_ylim(-0.2, 4.1);"
   ]
  },
  {
   "cell_type": "markdown",
   "metadata": {},
   "source": [
    "Let's find some seeds for `coins`. First, we compute the *distance transform* of a thresholded version of `edges`:"
   ]
  },
  {
   "cell_type": "code",
   "execution_count": null,
   "metadata": {
    "collapsed": false
   },
   "outputs": [],
   "source": [
    "threshold = filters.threshold_otsu(edges)\n",
    "print(threshold)\n",
    "# Euclidean distance transform\n",
    "# How far do we have to travel from a non-edge to find an edge?\n",
    "non_edges = (edges < threshold)\n",
    "plt.imshow(non_edges)"
   ]
  },
  {
   "cell_type": "code",
   "execution_count": null,
   "metadata": {
    "collapsed": false
   },
   "outputs": [],
   "source": [
    "distance_from_edge = ndi.distance_transform_edt(non_edges)\n",
    "\n",
    "plt.imshow(distance_from_edge, cmap='viridis');"
   ]
  },
  {
   "cell_type": "markdown",
   "metadata": {},
   "source": [
    "Then, we find the *peaks* in that image--the background points furthest away from any edges--which will act as the seeds."
   ]
  },
  {
   "cell_type": "code",
   "execution_count": null,
   "metadata": {
    "collapsed": false
   },
   "outputs": [],
   "source": [
    "from skimage import feature\n",
    "peaks = feature.peak_local_max(distance_from_edge, min_distance=10)\n",
    "print(\"Peaks shape:\", peaks.shape)"
   ]
  },
  {
   "cell_type": "code",
   "execution_count": null,
   "metadata": {
    "collapsed": false
   },
   "outputs": [],
   "source": [
    "peaks_image = np.zeros(coins.shape, np.bool)\n",
    "peaks_image[tuple(np.transpose(peaks))] = True\n",
    "seeds, num_seeds = ndi.label(peaks_image)\n",
    "\n",
    "plt.imshow(edges, cmap='gray')\n",
    "plt.plot(peaks[:, 1], peaks[:, 0], 'ro');\n",
    "plt.axis('image')"
   ]
  },
  {
   "cell_type": "markdown",
   "metadata": {},
   "source": [
    "We are now ready to perform the watershed:"
   ]
  },
  {
   "cell_type": "code",
   "execution_count": null,
   "metadata": {
    "collapsed": false
   },
   "outputs": [],
   "source": [
    "ws = watershed(edges, seeds)\n",
    "\n",
    "from skimage import color\n",
    "plt.imshow(color.label2rgb(ws, coins));"
   ]
  },
  {
   "cell_type": "markdown",
   "metadata": {},
   "source": [
    "## Examining the resulting segmentation\n",
    "\n",
    "That's pretty good! Some coins are perfectly segmented, with only one missing. We can't do much about the missing one (yet), but we can [*merge regions*](http://scikit-image.org/docs/dev/auto_examples/segmentation/plot_boundary_merge.html#example-segmentation-plot-boundary-merge-py) to fix the remaining coins, and the background. For that we need a *region adjacency graph*, or RAG."
   ]
  },
  {
   "cell_type": "code",
   "execution_count": null,
   "metadata": {
    "collapsed": false
   },
   "outputs": [],
   "source": [
    "from skimage.future import graph"
   ]
  },
  {
   "cell_type": "markdown",
   "metadata": {},
   "source": [
    "Because *mean boundary agglomeration* won't be available until scikit-image 0.13, we have to *monkey patch* the RAG class to use it. "
   ]
  },
  {
   "cell_type": "code",
   "execution_count": null,
   "metadata": {
    "collapsed": false
   },
   "outputs": [],
   "source": [
    "def merge_nodes(self, src, dst, weight_func=None, in_place=True,\n",
    "                extra_arguments=[], extra_keywords={}):\n",
    "    src_nbrs = set(self.neighbors(src))\n",
    "    dst_nbrs = set(self.neighbors(dst))\n",
    "    neighbors = (src_nbrs | dst_nbrs) - set([src, dst])\n",
    "\n",
    "    if in_place:\n",
    "        new = dst\n",
    "    else:\n",
    "        new = self.next_id()\n",
    "        self.add_node(new)\n",
    "\n",
    "    for neighbor in neighbors:\n",
    "        data = weight_func(self, src, new, neighbor, *extra_arguments,\n",
    "                           **extra_keywords)\n",
    "        self.add_edge(neighbor, new, attr_dict=data)\n",
    "\n",
    "    self.node[new]['labels'] = (self.node[src]['labels'] +\n",
    "                                self.node[dst]['labels'])\n",
    "    self.remove_node(src)\n",
    "\n",
    "    if not in_place:\n",
    "        self.remove_node(dst)\n",
    "\n",
    "    return new\n",
    "\n",
    "graph.RAG.merge_nodes = merge_nodes"
   ]
  },
  {
   "cell_type": "markdown",
   "metadata": {},
   "source": [
    "Now we can make a RAG that will be mergeable:"
   ]
  },
  {
   "cell_type": "code",
   "execution_count": null,
   "metadata": {
    "collapsed": true
   },
   "outputs": [],
   "source": [
    "g = graph.rag_boundary(ws, edges)"
   ]
  },
  {
   "cell_type": "markdown",
   "metadata": {},
   "source": [
    "g is now a *graph* in which each region is a node, and each node links to that regions neighbors. The edges have hold properties about the boundary between the corresponding region:"
   ]
  },
  {
   "cell_type": "code",
   "execution_count": null,
   "metadata": {
    "collapsed": false
   },
   "outputs": [],
   "source": [
    "plt.imshow(ws == 45)\n",
    "print(g[45])"
   ]
  },
  {
   "cell_type": "code",
   "execution_count": null,
   "metadata": {
    "collapsed": false
   },
   "outputs": [],
   "source": [
    "plt.imshow(ws == 47)\n",
    "print(g[47])"
   ]
  },
  {
   "cell_type": "markdown",
   "metadata": {},
   "source": [
    "Look at the `skimage.future.graph.merge_hierarchical` API. It's still being worked on. That's why it's in `future`, but the future is here! Start using it now and send us feedback!"
   ]
  },
  {
   "cell_type": "code",
   "execution_count": null,
   "metadata": {
    "collapsed": false
   },
   "outputs": [],
   "source": [
    "from skimage.future import graph\n",
    "\n",
    "graph.merge_hierarchical?"
   ]
  },
  {
   "cell_type": "markdown",
   "metadata": {},
   "source": [
    "Note that it needs both a merge function and a weight function, which together define how merging nodes affects the graph. In our case, we want any edges to reflect the mean of the pixels at their boundary."
   ]
  },
  {
   "cell_type": "code",
   "execution_count": null,
   "metadata": {
    "collapsed": true
   },
   "outputs": [],
   "source": [
    "from skimage.future import graph\n",
    "\n",
    "def weight_boundary(graph, src, dst, n):\n",
    "    default = {'weight': 0.0, 'count': 0}\n",
    "\n",
    "    count_src = graph[src].get(n, default)['count']\n",
    "    count_dst = graph[dst].get(n, default)['count']\n",
    "\n",
    "    weight_src = graph[src].get(n, default)['weight']\n",
    "    weight_dst = graph[dst].get(n, default)['weight']\n",
    "    \n",
    "    count = count_src + count_dst\n",
    "    weighted_mean = (count_src * weight_src +\n",
    "                     count_dst * weight_dst) / count\n",
    "\n",
    "    return {'count': count, 'weight': weighted_mean}\n",
    "\n",
    "\n",
    "def do_nothing(*args, **kwargs):\n",
    "    pass"
   ]
  },
  {
   "cell_type": "markdown",
   "metadata": {},
   "source": [
    "Now we can use these functions to merge the the nodes of the graph, one after the other:"
   ]
  },
  {
   "cell_type": "code",
   "execution_count": null,
   "metadata": {
    "collapsed": false
   },
   "outputs": [],
   "source": [
    "seg_coins = graph.merge_hierarchical(ws, g, thresh=0.155, rag_copy=True,\n",
    "                                     in_place_merge=True,\n",
    "                                     merge_func=do_nothing,\n",
    "                                     weight_func=weight_boundary)"
   ]
  },
  {
   "cell_type": "markdown",
   "metadata": {},
   "source": [
    "Let's look at the result:"
   ]
  },
  {
   "cell_type": "code",
   "execution_count": null,
   "metadata": {
    "collapsed": false
   },
   "outputs": [],
   "source": [
    "from skimage import segmentation\n",
    "plt.imshow(segmentation.mark_boundaries(coins, seg_coins))"
   ]
  },
  {
   "cell_type": "markdown",
   "metadata": {},
   "source": [
    "We're missing a coin, but otherwise it's perfect! Mean boundary agglomeration, as this procedure is called, is simple but powerful!"
   ]
  },
  {
   "cell_type": "markdown",
   "metadata": {},
   "source": [
    "## <span class=\"exercise\">Exercise: The Seeds of Doubt</span>\n",
    "\n",
    "Watershed combined with region agglomeration makes a very good segmentation, but we missed a coin. How can you improve this?\n",
    "\n",
    "We missed a seed, so think of a few other ways to place seeds of an image, or to get a finer segmentation at the start. Here's a couple of ideas:\n",
    "- find peaks in a Gaussian-smoothed image of the coins, and combine those with our original seeds.\n",
    "- use a different segmentation algorithm from `watershed`, such as `segmentation.felzenszwalb` or `segmentation.slic`, and find its intersection with watershed using `segmentation.join_segmentations`."
   ]
  },
  {
   "cell_type": "code",
   "execution_count": null,
   "metadata": {
    "collapsed": true
   },
   "outputs": [],
   "source": []
  }
 ],
 "metadata": {
  "kernelspec": {
   "display_name": "Python 3",
   "language": "python",
   "name": "python3"
  },
  "language_info": {
   "codemirror_mode": {
    "name": "ipython",
    "version": 3
   },
   "file_extension": ".py",
   "mimetype": "text/x-python",
   "name": "python",
   "nbconvert_exporter": "python",
   "pygments_lexer": "ipython3",
   "version": "3.5.2"
  }
 },
 "nbformat": 4,
 "nbformat_minor": 0
}
