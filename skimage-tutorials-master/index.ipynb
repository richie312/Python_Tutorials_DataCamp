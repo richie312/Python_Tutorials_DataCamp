{
 "cells": [
  {
   "cell_type": "markdown",
   "metadata": {},
   "source": [
    "# Lectures\n",
    "\n",
    "See the [full list of lectures](lectures/)."
   ]
  },
  {
   "cell_type": "markdown",
   "metadata": {},
   "source": [
    "# Conferences\n",
    "\n",
    "- [SciPy 2014](2014-scipy/000_index.ipynb)\n",
    "- [EuroSciPy 2014](2014-euroscipy/index.ipynb)\n",
    "- [SciPy 2015](2015-scipy/index.ipynb)"
   ]
  },
  {
   "cell_type": "markdown",
   "metadata": {},
   "source": [
    "# More demos and examples\n",
    "\n",
    "Refer to [the gallery](http://scikit-image.org/docs/dev/auto_examples/) as\n",
    "well as [scikit-image demos](https://github.com/scikit-image/skimage-demos)\n",
    "for more examples."
   ]
  }
 ],
 "metadata": {
  "kernelspec": {
   "display_name": "Python 2",
   "language": "python",
   "name": "python2"
  },
  "language_info": {
   "codemirror_mode": {
    "name": "ipython",
    "version": 2
   },
   "file_extension": ".py",
   "mimetype": "text/x-python",
   "name": "python",
   "nbconvert_exporter": "python",
   "pygments_lexer": "ipython2",
   "version": "2.7.9"
  }
 },
 "nbformat": 4,
 "nbformat_minor": 0
}
